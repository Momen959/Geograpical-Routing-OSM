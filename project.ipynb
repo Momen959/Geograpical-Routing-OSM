{
 "cells": [
  {
   "cell_type": "code",
   "execution_count": 53,
   "metadata": {},
   "outputs": [],
   "source": [
    "# map_url = 'https://nominatim.openstreetmap.org/reverse?format=json'\n",
    "\n",
    "# first_loc_params = {\n",
    "#     'lat': coords1[0],\n",
    "#     'lon': coords1[1]\n",
    "# }\n",
    "# second_loc_params = {\n",
    "#     'lat': coords2[0],\n",
    "#     'lon': coords2[1]\n",
    "# }\n",
    "\n",
    "# response_1 = requests.get(map_url, params=first_loc_params, headers=headers, timeout=10)\n",
    "# response_2 = requests.get(map_url, params=second_loc_params, headers=headers, timeout=10)\n",
    "\n",
    "# if response_1.status_code == 200 and response_2.status_code == 200:\n",
    "#     data_1 = response_1.json()\n",
    "#     data_2 = response_2.json()\n",
    "# else:\n",
    "#     print(f\"Error: {response_1.status_code}, {response_1.reason}\")\n",
    "#     exit()\n",
    "\n",
    "# location_1 = data_1[0]\n",
    "# location_2 = data_2[0]\n",
    "\n",
    "# pprint(data_1)\n",
    "# pprint(data_2)"
   ]
  },
  {
   "cell_type": "code",
   "execution_count": 54,
   "metadata": {},
   "outputs": [],
   "source": [
    "\n",
    "import folium\n",
    "import requests\n",
    "from folium import plugins\n",
    "from pprint import pprint\n",
    "import json\n",
    "from branca.element import Figure\n",
    "import geocoder\n",
    "from geopy.distance import distance\n",
    "from openrouteservice import convert\n",
    "import openrouteservice as ors"
   ]
  },
  {
   "cell_type": "code",
   "execution_count": 55,
   "metadata": {},
   "outputs": [],
   "source": [
    "headers = {'User-Agent': 'mapsproject/1.0 (momen.saif22@gmail.com)'}\n",
    "first_loc = input('Enter First Location (ex: giza, egypt):')\n",
    "second_loc = input('Enter Second Location (ex: giza, egypt): ')\n",
    "session = requests.Session()\n",
    "session.headers.update(headers) \n",
    "address_1 = geocoder.osm(f'{first_loc}', session=session)\n",
    "address_2 = geocoder.osm(f'{second_loc}', session=session)\n",
    "coords1 = [address_1.lat, address_1.lng]\n",
    "coords2 = [address_2.lat, address_2.lng]\n"
   ]
  },
  {
   "cell_type": "code",
   "execution_count": 56,
   "metadata": {},
   "outputs": [
    {
     "data": {
      "text/plain": [
       "<folium.plugins.fullscreen.Fullscreen at 0x1baa538d2d0>"
      ]
     },
     "execution_count": 56,
     "metadata": {},
     "output_type": "execute_result"
    }
   ],
   "source": [
    "def calculate_mid(coor1, coor2):\n",
    "    mid_lat = (coor1[0] + coor2[0]) / 2\n",
    "    mid_lon = (coor1[1] + coor2[1]) / 2\n",
    "    return mid_lat, mid_lon\n",
    "\n",
    "mid_lat, mid_lon = calculate_mid(coords1, coords2)\n",
    "\n",
    "\n",
    "map_distance = distance(coords1, coords2).km\n",
    "tile_zoom_level = 40075\n",
    "zoom_level = 0\n",
    "while tile_zoom_level > map_distance:\n",
    "    tile_zoom_level = tile_zoom_level / 2\n",
    "    zoom_level += 1\n",
    "\n",
    "mymap = folium.Map(location=[mid_lat, mid_lon], zoom_start=zoom_level + 1, control_scale=True)\n",
    "\n",
    "open_street = folium.TileLayer(tiles=\"OpenStreetMap\", attr=\"Open Street map\", name=\"Street Map\").add_to(mymap)\n",
    "folium.LayerControl().add_to(mymap)\n",
    "\n",
    "mymap.add_child(plugins.MiniMap(toggle_display=True))\n",
    "plugins.ScrollZoomToggler().add_to(mymap)\n",
    "plugins.Fullscreen(position='topleft').add_to(mymap)"
   ]
  },
  {
   "cell_type": "code",
   "execution_count": 57,
   "metadata": {},
   "outputs": [
    {
     "data": {
      "text/plain": [
       "<folium.map.Marker at 0x1baa5f2ec50>"
      ]
     },
     "execution_count": 57,
     "metadata": {},
     "output_type": "execute_result"
    }
   ],
   "source": [
    "api_key = '5b3ce3597851110001cf62480a617482517d4d42af6cc9c5c3fc7113'\n",
    "client = ors.Client(key=api_key)\n",
    "\n",
    "base_url = 'https://api.openrouteservice.org/v2/directions/'\n",
    "\n",
    "flip_coordinates = [[coords1[1], coords1[0]], [coords2[1], coords2[0]]]\n",
    "\n",
    "\n",
    "payload = {\"coordinates\": flip_coordinates, \"instructions\": True}\n",
    "headers = {\"Authorization\": api_key, \"Content-Type\": \"application/json\"}\n",
    "\n",
    "mode = 'driving-car'\n",
    "response = requests.post(f'{base_url}{mode}', json=payload, headers=headers)\n",
    "\n",
    "if response.status_code == 200:\n",
    "    data = response.json()\n",
    "    if \"routes\" in data and len(data[\"routes\"]) > 0:\n",
    "        distance = data['routes'][0]['summary']['distance']\n",
    "        duration = data['routes'][0]['summary']['duration']\n",
    "        route_geometry = data['routes'][0]['geometry']\n",
    "        decoded_route = convert.decode_polyline(route_geometry)\n",
    "        unflipped_route = [[coord[1], coord[0]] for coord in decoded_route['coordinates']]\n",
    "        folium.PolyLine(unflipped_route, color='darkgreen').add_to(mymap)\n",
    "    else:\n",
    "        print(\"No routes found between the coordinates.\")\n",
    "else:\n",
    "    print(f\"API Error: {response.status_code}, Message: {response.text}\")\n",
    "\n",
    "start_name = data[\"routes\"][0][\"segments\"][0][\"steps\"][0][\"name\"]\n",
    "end_name = data[\"routes\"][0][\"segments\"][0][\"steps\"][-1][\"name\"]\n",
    "folium.Marker(coords1, popup=f'{address_1.lat}\\n{address_1.lng}', tooltip=start_name, icon=folium.Icon(color='red', icon='s', prefix='fa')).add_to(mymap)\n",
    "folium.Marker(coords2, popup=f'{address_2.lat}\\n{address_2.lng}', tooltip=end_name, icon=folium.Icon(color='red', icon='e', prefix='fa')).add_to(mymap)"
   ]
  },
  {
   "cell_type": "code",
   "execution_count": 58,
   "metadata": {},
   "outputs": [
    {
     "name": "stdout",
     "output_type": "stream",
     "text": [
      "Start Location:\n",
      "  Name: -\n",
      "  Coordinates: (34.295447, 27.8644422)\n",
      "\n",
      "End Location:\n",
      "  Name: -\n",
      "  Coordinates: (32.897306, 24.091071)\n",
      "\n",
      "Estimated Duration: 14h 42m\n",
      "Calculated Distance: 1263.78km\n"
     ]
    }
   ],
   "source": [
    "hours = int(duration // 3600)\n",
    "minutes = int((duration % 3600) // 60)\n",
    "formatted_duration = f\"{hours:02d}h {minutes:02d}m\"\n",
    "\n",
    "# Output\n",
    "print(\"Start Location:\")\n",
    "print(f\"  Name: {start_name}\")\n",
    "print(f\"  Coordinates: ({coords1[1]}, {coords1[0]})\")\n",
    "\n",
    "print(\"\\nEnd Location:\")\n",
    "print(f\"  Name: {end_name}\")\n",
    "print(f\"  Coordinates: ({coords2[1]}, {coords2[0]})\")\n",
    "\n",
    "print(f\"\\nEstimated Duration: {formatted_duration}\")\n",
    "print(f\"Calculated Distance: {round(distance / 1000, 2)}km\")\n"
   ]
  },
  {
   "cell_type": "code",
   "execution_count": 59,
   "metadata": {},
   "outputs": [],
   "source": [
    "fig = Figure(width=800, height=600)\n",
    "\n",
    "fig.add_child(mymap)\n",
    "\n",
    "mymap.save('map.html')\n"
   ]
  }
 ],
 "metadata": {
  "kernelspec": {
   "display_name": "Python 3",
   "language": "python",
   "name": "python3"
  },
  "language_info": {
   "codemirror_mode": {
    "name": "ipython",
    "version": 3
   },
   "file_extension": ".py",
   "mimetype": "text/x-python",
   "name": "python",
   "nbconvert_exporter": "python",
   "pygments_lexer": "ipython3",
   "version": "3.11.0"
  }
 },
 "nbformat": 4,
 "nbformat_minor": 2
}
